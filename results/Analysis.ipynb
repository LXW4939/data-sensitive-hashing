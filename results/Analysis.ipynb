{
 "cells": [
  {
   "cell_type": "code",
   "execution_count": 79,
   "metadata": {
    "collapsed": true
   },
   "outputs": [],
   "source": [
    "%matplotlib inline\n",
    "import numpy as np\n",
    "import matplotlib.pyplot as plt\n",
    "import pandas as pd\n",
    "import brewer2mpl\n",
    "from matplotlib import rcParams\n",
    "\n",
    "#colorbrewer2 Dark2 qualitative color table\n",
    "dark2_cmap = brewer2mpl.get_map('Dark2', 'Qualitative', 7)\n",
    "dark2_colors = dark2_cmap.mpl_colors\n",
    "\n",
    "rcParams['figure.figsize'] = (10, 6)\n",
    "rcParams['figure.dpi'] = 150\n",
    "rcParams['axes.color_cycle'] = dark2_colors\n",
    "rcParams['lines.linewidth'] = 2\n",
    "rcParams['axes.facecolor'] = 'white'\n",
    "rcParams['font.size'] = 20\n",
    "rcParams['patch.edgecolor'] = 'white'\n",
    "rcParams['patch.facecolor'] = dark2_colors[0]\n",
    "rcParams['font.family'] = 'StixGeneral'"
   ]
  },
  {
   "cell_type": "code",
   "execution_count": 80,
   "metadata": {
    "collapsed": true
   },
   "outputs": [],
   "source": [
    "normal = pd.read_csv('normalknn.csv')\n",
    "entropy = pd.read_csv('entropy.csv')"
   ]
  },
  {
   "cell_type": "markdown",
   "metadata": {},
   "source": [
    "## Number of Hashtables used vs Recall\n",
    "Here we plot the dependence of the number of hashtables that we used versus the recall obtained"
   ]
  },
  {
   "cell_type": "code",
   "execution_count": 81,
   "metadata": {
    "collapsed": false
   },
   "outputs": [
    {
     "data": {
      "text/plain": [
       "<matplotlib.legend.Legend at 0x8c85090>"
      ]
     },
     "execution_count": 81,
     "metadata": {},
     "output_type": "execute_result"
    },
    {
     "data": {
      "image/png": "[encoded data removed]",
      "text/plain": [
       "<matplotlib.figure.Figure at 0x9151e90>"
      ]
     },
     "metadata": {},
     "output_type": "display_data"
    }
   ],
   "source": [
    "normal.index = normal['Lused']\n",
    "entropy.index = entropy['Lused']\n",
    "\n",
    "plt.title('Lused vs recall')\n",
    "plot1, = plt.plot(normal['Lused'], normal['recall'], 'r', label='dsh')\n",
    "plot2, = plt.plot(entropy['Lused'], entropy['recall'], 'g', label='dsh-entropy')\n",
    "plt.legend([plot1, plot2], ['dsh', 'dsh-entropy'])"
   ]
  },
  {
   "cell_type": "code",
   "execution_count": 83,
   "metadata": {
    "collapsed": false
   },
   "outputs": [
    {
     "data": {
      "text/html": [
       "<div style=\"max-height:1000px;max-width:1500px;overflow:auto;\">\n",
       "<table border=\"1\" class=\"dataframe\">\n",
       "  <thead>\n",
       "    <tr style=\"text-align: right;\">\n",
       "      <th></th>\n",
       "      <th>Lused</th>\n",
       "      <th>time</th>\n",
       "      <th>recall</th>\n",
       "      <th>errorrate</th>\n",
       "      <th>points</th>\n",
       "      <th>avg-time</th>\n",
       "    </tr>\n",
       "    <tr>\n",
       "      <th>Lused</th>\n",
       "      <th></th>\n",
       "      <th></th>\n",
       "      <th></th>\n",
       "      <th></th>\n",
       "      <th></th>\n",
       "      <th></th>\n",
       "    </tr>\n",
       "  </thead>\n",
       "  <tbody>\n",
       "    <tr>\n",
       "      <th>5</th>\n",
       "      <td>5</td>\n",
       "      <td>113128</td>\n",
       "      <td>0.65850</td>\n",
       "      <td>0.539859</td>\n",
       "      <td>322.539</td>\n",
       "      <td>113.128</td>\n",
       "    </tr>\n",
       "    <tr>\n",
       "      <th>6</th>\n",
       "      <td>6</td>\n",
       "      <td>223890</td>\n",
       "      <td>0.71130</td>\n",
       "      <td>0.381371</td>\n",
       "      <td>389.624</td>\n",
       "      <td>223.890</td>\n",
       "    </tr>\n",
       "    <tr>\n",
       "      <th>7</th>\n",
       "      <td>7</td>\n",
       "      <td>171018</td>\n",
       "      <td>0.73925</td>\n",
       "      <td>0.306750</td>\n",
       "      <td>452.347</td>\n",
       "      <td>171.018</td>\n",
       "    </tr>\n",
       "    <tr>\n",
       "      <th>8</th>\n",
       "      <td>8</td>\n",
       "      <td>211596</td>\n",
       "      <td>0.77150</td>\n",
       "      <td>0.239177</td>\n",
       "      <td>517.435</td>\n",
       "      <td>211.596</td>\n",
       "    </tr>\n",
       "    <tr>\n",
       "      <th>9</th>\n",
       "      <td>9</td>\n",
       "      <td>215910</td>\n",
       "      <td>0.79345</td>\n",
       "      <td>0.197102</td>\n",
       "      <td>580.318</td>\n",
       "      <td>215.910</td>\n",
       "    </tr>\n",
       "  </tbody>\n",
       "</table>\n",
       "</div>"
      ],
      "text/plain": [
       "       Lused    time   recall  errorrate   points  avg-time\n",
       "Lused                                                      \n",
       "5          5  113128  0.65850   0.539859  322.539   113.128\n",
       "6          6  223890  0.71130   0.381371  389.624   223.890\n",
       "7          7  171018  0.73925   0.306750  452.347   171.018\n",
       "8          8  211596  0.77150   0.239177  517.435   211.596\n",
       "9          9  215910  0.79345   0.197102  580.318   215.910"
      ]
     },
     "execution_count": 83,
     "metadata": {},
     "output_type": "execute_result"
    }
   ],
   "source": [
    "normal['avg-time'] = normal['time'] / 1000\n",
    "entropy['avg-time'] = entropy['time'] / 1000"
   ]
  },
  {
   "cell_type": "code",
   "execution_count": null,
   "metadata": {
    "collapsed": true
   },
   "outputs": [],
   "source": []
  }
 ],
 "metadata": {
  "kernelspec": {
   "display_name": "Python 2",
   "language": "python",
   "name": "python2"
  },
  "language_info": {
   "codemirror_mode": {
    "name": "ipython",
    "version": 2
   },
   "file_extension": ".py",
   "mimetype": "text/x-python",
   "name": "python",
   "nbconvert_exporter": "python",
   "pygments_lexer": "ipython2",
   "version": "2.7"
  }
 },
 "nbformat": 4,
 "nbformat_minor": 0
}
